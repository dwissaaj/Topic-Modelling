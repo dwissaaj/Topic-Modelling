{
 "cells": [
  {
   "cell_type": "code",
   "execution_count": 78,
   "metadata": {
    "collapsed": true
   },
   "outputs": [],
   "source": [
    "import pandas as pd\n",
    "df = pd.read_excel(\"data test.xlsx\")\n"
   ]
  },
  {
   "cell_type": "code",
   "execution_count": 79,
   "outputs": [
    {
     "data": {
      "text/plain": "                                              berita\n0  O-Ranger Mawar adalah terobosan terbaru untuk ...\n1  ILUSTRASI. Dirut PT Pos Finansial Indonesia (P...\n2  Logo PT Pos Indonesia\\n \\n TRIBUNNEWS.COM - PT...\n3  Liputan6.com, Jakarta Faizal Rachmad Djoemadi ...\n4  Saat ini Pos Indonesia menyediakan pelayanan s...",
      "text/html": "<div>\n<style scoped>\n    .dataframe tbody tr th:only-of-type {\n        vertical-align: middle;\n    }\n\n    .dataframe tbody tr th {\n        vertical-align: top;\n    }\n\n    .dataframe thead th {\n        text-align: right;\n    }\n</style>\n<table border=\"1\" class=\"dataframe\">\n  <thead>\n    <tr style=\"text-align: right;\">\n      <th></th>\n      <th>berita</th>\n    </tr>\n  </thead>\n  <tbody>\n    <tr>\n      <th>0</th>\n      <td>O-Ranger Mawar adalah terobosan terbaru untuk ...</td>\n    </tr>\n    <tr>\n      <th>1</th>\n      <td>ILUSTRASI. Dirut PT Pos Finansial Indonesia (P...</td>\n    </tr>\n    <tr>\n      <th>2</th>\n      <td>Logo PT Pos Indonesia\\n \\n TRIBUNNEWS.COM - PT...</td>\n    </tr>\n    <tr>\n      <th>3</th>\n      <td>Liputan6.com, Jakarta Faizal Rachmad Djoemadi ...</td>\n    </tr>\n    <tr>\n      <th>4</th>\n      <td>Saat ini Pos Indonesia menyediakan pelayanan s...</td>\n    </tr>\n  </tbody>\n</table>\n</div>"
     },
     "execution_count": 79,
     "metadata": {},
     "output_type": "execute_result"
    }
   ],
   "source": [
    "df.head()"
   ],
   "metadata": {
    "collapsed": false,
    "pycharm": {
     "name": "#%%\n"
    }
   }
  },
  {
   "cell_type": "code",
   "execution_count": 7,
   "outputs": [],
   "source": [
    "import re\n",
    "df['berita'] = df['berita'].replace('\\s+', ' ', regex=True)\n",
    "df['berita'] = df['berita'].replace({'\"':'',\n",
    "                                 '\\d+':'',\n",
    "                                 ':':'',\n",
    "                                 ';':'',\n",
    "                                 '#':'',\n",
    "                                 '@':'',\n",
    "                                 '_':'',\n",
    "                                 ',': '',\n",
    "                                 \"'\": '',\n",
    "                                  }, regex=True)\n",
    "\n",
    "df['berita'] = df['berita'].str.replace(r'[https]+[?://]+[^\\s<>\"]+|www\\.[^\\s<>\"]+[?()]+[(??)]+[)*]+[(\\xa0]+[-&gt...]', \"\",regex=True)\n",
    "\n",
    "df['berita'] = df['berita'].replace('\\n','', regex=True)\n",
    "\n",
    "df['berita'] = df['berita'].replace({'\\.':'','(/)':'','\\(':'','\\)':''},regex=True)\n",
    "df['berita'] = df['berita'].replace('[\\.:\"]','',regex =True)\n",
    "\n",
    "df['berita'] = df['berita'].fillna('').apply(str)\n",
    "\n",
    "df['berita'].astype(str)\n",
    "letters_only = re.sub(\"[^a-zA-Z]\",  # Search for all non-letters\n",
    "                          \" \",          # Replace all non-letters with spaces\n",
    "                          str(df['berita']))\n",
    "df['berita'] = df['berita'].str.strip()\n",
    "df['berita'] = df['berita'].str.lower()\n",
    "\n"
   ],
   "metadata": {
    "collapsed": false,
    "pycharm": {
     "name": "#%%\n"
    }
   }
  },
  {
   "cell_type": "code",
   "execution_count": 80,
   "outputs": [],
   "source": [],
   "metadata": {
    "collapsed": false,
    "pycharm": {
     "name": "#%%\n"
    }
   }
  },
  {
   "cell_type": "code",
   "execution_count": null,
   "outputs": [],
   "source": [],
   "metadata": {
    "collapsed": false,
    "pycharm": {
     "name": "#%%\n"
    }
   }
  }
 ],
 "metadata": {
  "kernelspec": {
   "display_name": "Python 3",
   "language": "python",
   "name": "python3"
  },
  "language_info": {
   "codemirror_mode": {
    "name": "ipython",
    "version": 2
   },
   "file_extension": ".py",
   "mimetype": "text/x-python",
   "name": "python",
   "nbconvert_exporter": "python",
   "pygments_lexer": "ipython2",
   "version": "2.7.6"
  }
 },
 "nbformat": 4,
 "nbformat_minor": 0
}